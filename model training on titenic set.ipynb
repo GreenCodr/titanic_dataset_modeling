{
 "cells": [
  {
   "cell_type": "code",
   "execution_count": 321,
   "id": "49640beb-d8ed-4ed1-9d4e-01dc82092da5",
   "metadata": {},
   "outputs": [],
   "source": [
    "import pandas as pd\n",
    "import numpy as np"
   ]
  },
  {
   "cell_type": "code",
   "execution_count": 323,
   "id": "2ae64fc3-9ce2-42df-8694-f8cd5977252f",
   "metadata": {},
   "outputs": [],
   "source": [
    "#load the dataset of titenic.\n"
   ]
  },
  {
   "cell_type": "code",
   "execution_count": 325,
   "id": "7d95c697-b9e4-4cde-8fc7-2275b1c64396",
   "metadata": {},
   "outputs": [
    {
     "name": "stdout",
     "output_type": "stream",
     "text": [
      "   PassengerId  Survived  Pclass  \\\n",
      "0            1       0.0       3   \n",
      "1            2       1.0       1   \n",
      "2            3       1.0       3   \n",
      "\n",
      "                                                Name     Sex   Age  SibSp  \\\n",
      "0                            Braund, Mr. Owen Harris    male  22.0      1   \n",
      "1  Cumings, Mrs. John Bradley (Florence Briggs Th...  female  38.0      1   \n",
      "2                             Heikkinen, Miss. Laina  female  26.0      0   \n",
      "\n",
      "   Parch            Ticket     Fare  ... Embarked WikiId  \\\n",
      "0      0         A/5 21171   7.2500  ...        S  691.0   \n",
      "1      0          PC 17599  71.2833  ...        C   90.0   \n",
      "2      0  STON/O2. 3101282   7.9250  ...        S  865.0   \n",
      "\n",
      "                                    Name_wiki Age_wiki  \\\n",
      "0                     Braund, Mr. Owen Harris     22.0   \n",
      "1  Cumings, Mrs. Florence Briggs (née Thayer)     35.0   \n",
      "2                       Heikkinen, Miss Laina     26.0   \n",
      "\n",
      "                     Hometown      Boarded  \\\n",
      "0  Bridgerule, Devon, England  Southampton   \n",
      "1      New York, New York, US    Cherbourg   \n",
      "2          Jyväskylä, Finland  Southampton   \n",
      "\n",
      "                               Destination Lifeboat Body Class  \n",
      "0  Qu'Appelle Valley, Saskatchewan, Canada      NaN  NaN   3.0  \n",
      "1                   New York, New York, US        4  NaN   1.0  \n",
      "2                            New York City      14?  NaN   3.0  \n",
      "\n",
      "[3 rows x 21 columns]\n"
     ]
    }
   ],
   "source": [
    "df=pd.read_csv(\"titenic .csv\")\n",
    "\n",
    "print(df.head(3))"
   ]
  },
  {
   "cell_type": "code",
   "execution_count": 327,
   "id": "5eae5f37-1cff-4fc1-baea-6c6bb9cc1175",
   "metadata": {},
   "outputs": [],
   "source": [
    "#now clean the dataset"
   ]
  },
  {
   "cell_type": "code",
   "execution_count": 329,
   "id": "f9484557-e947-4b40-b79d-ebe26f501974",
   "metadata": {},
   "outputs": [
    {
     "data": {
      "text/plain": [
       "PassengerId      0\n",
       "Survived       418\n",
       "Pclass           0\n",
       "Name             0\n",
       "Sex              0\n",
       "Age            263\n",
       "SibSp            0\n",
       "Parch            0\n",
       "Ticket           0\n",
       "Fare             1\n",
       "Embarked         2\n",
       "WikiId           5\n",
       "Name_wiki        5\n",
       "Age_wiki         7\n",
       "Hometown         5\n",
       "Boarded          5\n",
       "Destination      5\n",
       "Class            5\n",
       "dtype: int64"
      ]
     },
     "execution_count": 329,
     "metadata": {},
     "output_type": "execute_result"
    }
   ],
   "source": [
    "df=df.drop(columns=['Cabin','Lifeboat','Body'])\n",
    "\n",
    "df.isnull().sum()"
   ]
  },
  {
   "cell_type": "code",
   "execution_count": 331,
   "id": "6108ad7e-a4ad-4a54-aebb-56ce5cba8b27",
   "metadata": {},
   "outputs": [],
   "source": [
    "#df_choose =df[df['Fare'].isna()]\n",
    "#print(df_choose)"
   ]
  },
  {
   "cell_type": "code",
   "execution_count": 333,
   "id": "c514031b-7a21-4c4b-b446-230a1d9cd0b2",
   "metadata": {},
   "outputs": [
    {
     "name": "stdout",
     "output_type": "stream",
     "text": [
      "<class 'pandas.core.frame.DataFrame'>\n",
      "RangeIndex: 1309 entries, 0 to 1308\n",
      "Data columns (total 18 columns):\n",
      " #   Column       Non-Null Count  Dtype  \n",
      "---  ------       --------------  -----  \n",
      " 0   PassengerId  1309 non-null   int64  \n",
      " 1   Survived     891 non-null    float64\n",
      " 2   Pclass       1309 non-null   int64  \n",
      " 3   Name         1309 non-null   object \n",
      " 4   Sex          1309 non-null   object \n",
      " 5   Age          1046 non-null   float64\n",
      " 6   SibSp        1309 non-null   int64  \n",
      " 7   Parch        1309 non-null   int64  \n",
      " 8   Ticket       1309 non-null   object \n",
      " 9   Fare         1308 non-null   float64\n",
      " 10  Embarked     1307 non-null   object \n",
      " 11  WikiId       1304 non-null   float64\n",
      " 12  Name_wiki    1304 non-null   object \n",
      " 13  Age_wiki     1302 non-null   float64\n",
      " 14  Hometown     1304 non-null   object \n",
      " 15  Boarded      1304 non-null   object \n",
      " 16  Destination  1304 non-null   object \n",
      " 17  Class        1304 non-null   float64\n",
      "dtypes: float64(6), int64(4), object(8)\n",
      "memory usage: 184.2+ KB\n"
     ]
    }
   ],
   "source": [
    "df.info()"
   ]
  },
  {
   "cell_type": "code",
   "execution_count": 335,
   "id": "78faffaf-0982-4f5d-8922-98bef27cb941",
   "metadata": {},
   "outputs": [],
   "source": [
    "#drop the unnessesary columns,which could not affect the output."
   ]
  },
  {
   "cell_type": "code",
   "execution_count": 337,
   "id": "608dcfef-563b-438c-830d-e174175e8184",
   "metadata": {},
   "outputs": [],
   "source": [
    "df=df.drop(columns=['Embarked', 'WikiId', 'Name_wiki',\n",
    "       'Age_wiki', 'Hometown', 'Boarded', 'Destination', 'Class','Ticket'])\n"
   ]
  },
  {
   "cell_type": "code",
   "execution_count": 339,
   "id": "24dbd15b-b074-4655-98f0-3235e5837707",
   "metadata": {},
   "outputs": [
    {
     "name": "stdout",
     "output_type": "stream",
     "text": [
      "     PassengerId  Survived  Pclass                  Name   Sex   Age  SibSp  \\\n",
      "94            95       0.0       3     Coxon, Mr. Daniel  male  59.0      0   \n",
      "116          117       0.0       3  Connors, Mr. Patrick  male  70.5      0   \n",
      "152          153       0.0       3      Meo, Mr. Alfonzo  male  55.5      0   \n",
      "\n",
      "     Parch  Fare  \n",
      "94       0  7.25  \n",
      "116      0  7.75  \n",
      "152      0  8.05  \n"
     ]
    }
   ],
   "source": [
    "df_select=df[(df['Pclass']==3)& (df['Sex']=='male')& (df['Age']>50)]\n",
    "print(df_select.head(3))"
   ]
  },
  {
   "cell_type": "code",
   "execution_count": 341,
   "id": "22de2e79-7242-44f6-8cb0-e9db00a413bf",
   "metadata": {},
   "outputs": [],
   "source": [
    "#now fill the missing data"
   ]
  },
  {
   "cell_type": "code",
   "execution_count": 343,
   "id": "b78c7037-d5fd-4d86-ad96-bfcc7ab8b3cf",
   "metadata": {},
   "outputs": [
    {
     "name": "stdout",
     "output_type": "stream",
     "text": [
      "7.518522222222223\n"
     ]
    }
   ],
   "source": [
    "average_df_select=df_select['Fare'].mean()\n",
    "print(average_df_select)"
   ]
  },
  {
   "cell_type": "code",
   "execution_count": 345,
   "id": "2c7763ab-b97b-4704-8cba-fa3c085e7d92",
   "metadata": {},
   "outputs": [],
   "source": [
    "df.at[1043,'Fare']=7.518\n"
   ]
  },
  {
   "cell_type": "code",
   "execution_count": 347,
   "id": "3133c0bf-b967-4cca-ad5f-588f92e4c842",
   "metadata": {},
   "outputs": [
    {
     "data": {
      "text/plain": [
       "PassengerId      0\n",
       "Survived       418\n",
       "Pclass           0\n",
       "Name             0\n",
       "Sex              0\n",
       "Age            263\n",
       "SibSp            0\n",
       "Parch            0\n",
       "Fare             0\n",
       "dtype: int64"
      ]
     },
     "execution_count": 347,
     "metadata": {},
     "output_type": "execute_result"
    }
   ],
   "source": [
    "df.isnull().sum()\n"
   ]
  },
  {
   "cell_type": "code",
   "execution_count": 349,
   "id": "878b6f5c-eca7-47f0-b592-706148c6f0fd",
   "metadata": {},
   "outputs": [
    {
     "data": {
      "text/plain": [
       "Index(['PassengerId', 'Survived', 'Pclass', 'Name', 'Sex', 'Age', 'SibSp',\n",
       "       'Parch', 'Fare'],\n",
       "      dtype='object')"
      ]
     },
     "execution_count": 349,
     "metadata": {},
     "output_type": "execute_result"
    }
   ],
   "source": [
    "df.columns"
   ]
  },
  {
   "cell_type": "code",
   "execution_count": 351,
   "id": "e89264c4-cd27-4dc1-b3cf-fdbf3c859466",
   "metadata": {},
   "outputs": [],
   "source": [
    "df['Sex']=df['Sex'].replace({'male':1,'female':0})"
   ]
  },
  {
   "cell_type": "code",
   "execution_count": 353,
   "id": "383250de-10f9-4a2a-a649-1e6bc2bee661",
   "metadata": {},
   "outputs": [
    {
     "name": "stdout",
     "output_type": "stream",
     "text": [
      "<class 'pandas.core.frame.DataFrame'>\n",
      "RangeIndex: 1309 entries, 0 to 1308\n",
      "Data columns (total 9 columns):\n",
      " #   Column       Non-Null Count  Dtype  \n",
      "---  ------       --------------  -----  \n",
      " 0   PassengerId  1309 non-null   int64  \n",
      " 1   Survived     891 non-null    float64\n",
      " 2   Pclass       1309 non-null   int64  \n",
      " 3   Name         1309 non-null   object \n",
      " 4   Sex          1309 non-null   int64  \n",
      " 5   Age          1046 non-null   float64\n",
      " 6   SibSp        1309 non-null   int64  \n",
      " 7   Parch        1309 non-null   int64  \n",
      " 8   Fare         1309 non-null   float64\n",
      "dtypes: float64(3), int64(5), object(1)\n",
      "memory usage: 92.2+ KB\n"
     ]
    }
   ],
   "source": [
    "df.info()"
   ]
  },
  {
   "cell_type": "code",
   "execution_count": 355,
   "id": "950384ed-807a-4cd9-8936-f8fa8e1773e6",
   "metadata": {},
   "outputs": [
    {
     "name": "stdout",
     "output_type": "stream",
     "text": [
      "      PassengerId  Survived  Pclass  \\\n",
      "1               2       1.0       1   \n",
      "3               4       1.0       1   \n",
      "6               7       0.0       1   \n",
      "11             12       1.0       1   \n",
      "23             24       1.0       1   \n",
      "...           ...       ...     ...   \n",
      "1294         1295       NaN       1   \n",
      "1295         1296       NaN       1   \n",
      "1298         1299       NaN       1   \n",
      "1302         1303       NaN       1   \n",
      "1305         1306       NaN       1   \n",
      "\n",
      "                                                   Name  Sex   Age  SibSp  \\\n",
      "1     Cumings, Mrs. John Bradley (Florence Briggs Th...    0  38.0      1   \n",
      "3          Futrelle, Mrs. Jacques Heath (Lily May Peel)    0  35.0      1   \n",
      "6                               McCarthy, Mr. Timothy J    1  54.0      0   \n",
      "11                             Bonnell, Miss. Elizabeth    0  58.0      0   \n",
      "23                         Sloper, Mr. William Thompson    1  28.0      0   \n",
      "...                                                 ...  ...   ...    ...   \n",
      "1294                             Carrau, Mr. Jose Pedro    1  17.0      0   \n",
      "1295                       Frauenthal, Mr. Isaac Gerald    1  43.0      1   \n",
      "1298                         Widener, Mr. George Dunton    1  50.0      1   \n",
      "1302    Minahan, Mrs. William Edward (Lillian E Thorpe)    0  37.0      1   \n",
      "1305                       Oliva y Ocana, Dona. Fermina    0  39.0      0   \n",
      "\n",
      "      Parch      Fare  \n",
      "1         0   71.2833  \n",
      "3         0   53.1000  \n",
      "6         0   51.8625  \n",
      "11        0   26.5500  \n",
      "23        0   35.5000  \n",
      "...     ...       ...  \n",
      "1294      0   47.1000  \n",
      "1295      0   27.7208  \n",
      "1298      1  211.5000  \n",
      "1302      0   90.0000  \n",
      "1305      0  108.9000  \n",
      "\n",
      "[323 rows x 9 columns]\n"
     ]
    }
   ],
   "source": [
    "df_pc1=df[df['Pclass']==1]\n",
    "print(df_pc1)\n"
   ]
  },
  {
   "cell_type": "code",
   "execution_count": 357,
   "id": "ae6bbfbf-3866-4cf5-ba4c-932ba91195a4",
   "metadata": {},
   "outputs": [
    {
     "name": "stdout",
     "output_type": "stream",
     "text": [
      "39.15992957746479\n"
     ]
    }
   ],
   "source": [
    "avg_df_pc1=df_pc1['Age'].mean()\n",
    "print(avg_df_pc1)"
   ]
  },
  {
   "cell_type": "code",
   "execution_count": 359,
   "id": "b2f18f7f-002e-4458-b823-8d1489b98235",
   "metadata": {},
   "outputs": [
    {
     "name": "stdout",
     "output_type": "stream",
     "text": [
      "29.506704980842912\n"
     ]
    }
   ],
   "source": [
    "df_pc1=df[df['Pclass']==2]\n",
    "avg_df_pc1=df_pc1['Age'].mean()\n",
    "print(avg_df_pc1)"
   ]
  },
  {
   "cell_type": "code",
   "execution_count": 361,
   "id": "9ecbc3e4-d541-42a8-b577-22d4ef5aed44",
   "metadata": {},
   "outputs": [
    {
     "name": "stdout",
     "output_type": "stream",
     "text": [
      "24.81636726546906\n"
     ]
    }
   ],
   "source": [
    "df_pc1=df[df['Pclass']==3]\n",
    "avg_df_pc1=df_pc1['Age'].mean()\n",
    "print(avg_df_pc1)"
   ]
  },
  {
   "cell_type": "code",
   "execution_count": 363,
   "id": "a75adcf1-811c-45a2-9132-163020b350df",
   "metadata": {},
   "outputs": [],
   "source": [
    "df.loc[df['Pclass']==1,'Age']=df.loc[df['Pclass']==1,'Age'].fillna(39.1599)"
   ]
  },
  {
   "cell_type": "code",
   "execution_count": 365,
   "id": "052645c3-b08a-46fc-983b-cba3772f4541",
   "metadata": {},
   "outputs": [],
   "source": [
    "df.loc[df['Pclass']==2,'Age']=df.loc[df['Pclass']==2,'Age'].fillna(29.5067)\n"
   ]
  },
  {
   "cell_type": "code",
   "execution_count": 367,
   "id": "fa56ee34-364f-42f9-9415-18e743273e96",
   "metadata": {},
   "outputs": [],
   "source": [
    "df.loc[df['Pclass']==3,'Age']=df.loc[df['Pclass']==3,'Age'].fillna(24.8163)"
   ]
  },
  {
   "cell_type": "code",
   "execution_count": 369,
   "id": "43c777f3-92d6-427b-949b-057275b93f77",
   "metadata": {},
   "outputs": [
    {
     "data": {
      "text/plain": [
       "PassengerId      0\n",
       "Survived       418\n",
       "Pclass           0\n",
       "Name             0\n",
       "Sex              0\n",
       "Age              0\n",
       "SibSp            0\n",
       "Parch            0\n",
       "Fare             0\n",
       "dtype: int64"
      ]
     },
     "execution_count": 369,
     "metadata": {},
     "output_type": "execute_result"
    }
   ],
   "source": [
    "df.isna().sum()"
   ]
  },
  {
   "cell_type": "code",
   "execution_count": 371,
   "id": "b1db79bb-e26b-446d-ac05-43fdb787f65c",
   "metadata": {},
   "outputs": [],
   "source": [
    "#we have not proper output in the data ,so keep only full cleaned data so we can train our model."
   ]
  },
  {
   "cell_type": "code",
   "execution_count": 373,
   "id": "526996db-9dcf-48f8-a681-dee619d29ad2",
   "metadata": {},
   "outputs": [
    {
     "name": "stdout",
     "output_type": "stream",
     "text": [
      "     PassengerId  Survived  Pclass  \\\n",
      "0              1       0.0       3   \n",
      "1              2       1.0       1   \n",
      "2              3       1.0       3   \n",
      "3              4       1.0       1   \n",
      "4              5       0.0       3   \n",
      "..           ...       ...     ...   \n",
      "886          887       0.0       2   \n",
      "887          888       1.0       1   \n",
      "888          889       0.0       3   \n",
      "889          890       1.0       1   \n",
      "890          891       0.0       3   \n",
      "\n",
      "                                                  Name  Sex      Age  SibSp  \\\n",
      "0                              Braund, Mr. Owen Harris    1  22.0000      1   \n",
      "1    Cumings, Mrs. John Bradley (Florence Briggs Th...    0  38.0000      1   \n",
      "2                               Heikkinen, Miss. Laina    0  26.0000      0   \n",
      "3         Futrelle, Mrs. Jacques Heath (Lily May Peel)    0  35.0000      1   \n",
      "4                             Allen, Mr. William Henry    1  35.0000      0   \n",
      "..                                                 ...  ...      ...    ...   \n",
      "886                              Montvila, Rev. Juozas    1  27.0000      0   \n",
      "887                       Graham, Miss. Margaret Edith    0  19.0000      0   \n",
      "888           Johnston, Miss. Catherine Helen \"Carrie\"    0  24.8163      1   \n",
      "889                              Behr, Mr. Karl Howell    1  26.0000      0   \n",
      "890                                Dooley, Mr. Patrick    1  32.0000      0   \n",
      "\n",
      "     Parch     Fare  \n",
      "0        0   7.2500  \n",
      "1        0  71.2833  \n",
      "2        0   7.9250  \n",
      "3        0  53.1000  \n",
      "4        0   8.0500  \n",
      "..     ...      ...  \n",
      "886      0  13.0000  \n",
      "887      0  30.0000  \n",
      "888      2  23.4500  \n",
      "889      0  30.0000  \n",
      "890      0   7.7500  \n",
      "\n",
      "[891 rows x 9 columns]\n"
     ]
    }
   ],
   "source": [
    "df_fresh=df.dropna(subset=['Survived'])\n",
    "print(df_fresh)"
   ]
  },
  {
   "cell_type": "code",
   "execution_count": 375,
   "id": "f1b6b35c-67f2-4005-8ae5-5fccfa891876",
   "metadata": {},
   "outputs": [
    {
     "data": {
      "text/plain": [
       "Index(['PassengerId', 'Survived', 'Pclass', 'Name', 'Sex', 'Age', 'SibSp',\n",
       "       'Parch', 'Fare'],\n",
       "      dtype='object')"
      ]
     },
     "execution_count": 375,
     "metadata": {},
     "output_type": "execute_result"
    }
   ],
   "source": [
    "df_fresh.columns\n"
   ]
  },
  {
   "cell_type": "code",
   "execution_count": 377,
   "id": "1c97810b-25ce-4b32-89a1-263631484fbf",
   "metadata": {},
   "outputs": [],
   "source": [
    "#apply linear regression model"
   ]
  },
  {
   "cell_type": "code",
   "execution_count": 379,
   "id": "dd1dd8e5-80b1-4bb5-b6df-7395ad5646d0",
   "metadata": {},
   "outputs": [],
   "source": [
    "x=df_fresh[['Pclass', 'Sex', 'Age', 'SibSp',\n",
    "       'Parch', 'Fare','PassengerId']]\n",
    "y=df_fresh['Survived']"
   ]
  },
  {
   "cell_type": "code",
   "execution_count": 381,
   "id": "186208ef-14c5-43de-b325-05ab13f43933",
   "metadata": {},
   "outputs": [
    {
     "data": {
      "text/html": [
       "<style>#sk-container-id-13 {color: black;background-color: white;}#sk-container-id-13 pre{padding: 0;}#sk-container-id-13 div.sk-toggleable {background-color: white;}#sk-container-id-13 label.sk-toggleable__label {cursor: pointer;display: block;width: 100%;margin-bottom: 0;padding: 0.3em;box-sizing: border-box;text-align: center;}#sk-container-id-13 label.sk-toggleable__label-arrow:before {content: \"▸\";float: left;margin-right: 0.25em;color: #696969;}#sk-container-id-13 label.sk-toggleable__label-arrow:hover:before {color: black;}#sk-container-id-13 div.sk-estimator:hover label.sk-toggleable__label-arrow:before {color: black;}#sk-container-id-13 div.sk-toggleable__content {max-height: 0;max-width: 0;overflow: hidden;text-align: left;background-color: #f0f8ff;}#sk-container-id-13 div.sk-toggleable__content pre {margin: 0.2em;color: black;border-radius: 0.25em;background-color: #f0f8ff;}#sk-container-id-13 input.sk-toggleable__control:checked~div.sk-toggleable__content {max-height: 200px;max-width: 100%;overflow: auto;}#sk-container-id-13 input.sk-toggleable__control:checked~label.sk-toggleable__label-arrow:before {content: \"▾\";}#sk-container-id-13 div.sk-estimator input.sk-toggleable__control:checked~label.sk-toggleable__label {background-color: #d4ebff;}#sk-container-id-13 div.sk-label input.sk-toggleable__control:checked~label.sk-toggleable__label {background-color: #d4ebff;}#sk-container-id-13 input.sk-hidden--visually {border: 0;clip: rect(1px 1px 1px 1px);clip: rect(1px, 1px, 1px, 1px);height: 1px;margin: -1px;overflow: hidden;padding: 0;position: absolute;width: 1px;}#sk-container-id-13 div.sk-estimator {font-family: monospace;background-color: #f0f8ff;border: 1px dotted black;border-radius: 0.25em;box-sizing: border-box;margin-bottom: 0.5em;}#sk-container-id-13 div.sk-estimator:hover {background-color: #d4ebff;}#sk-container-id-13 div.sk-parallel-item::after {content: \"\";width: 100%;border-bottom: 1px solid gray;flex-grow: 1;}#sk-container-id-13 div.sk-label:hover label.sk-toggleable__label {background-color: #d4ebff;}#sk-container-id-13 div.sk-serial::before {content: \"\";position: absolute;border-left: 1px solid gray;box-sizing: border-box;top: 0;bottom: 0;left: 50%;z-index: 0;}#sk-container-id-13 div.sk-serial {display: flex;flex-direction: column;align-items: center;background-color: white;padding-right: 0.2em;padding-left: 0.2em;position: relative;}#sk-container-id-13 div.sk-item {position: relative;z-index: 1;}#sk-container-id-13 div.sk-parallel {display: flex;align-items: stretch;justify-content: center;background-color: white;position: relative;}#sk-container-id-13 div.sk-item::before, #sk-container-id-13 div.sk-parallel-item::before {content: \"\";position: absolute;border-left: 1px solid gray;box-sizing: border-box;top: 0;bottom: 0;left: 50%;z-index: -1;}#sk-container-id-13 div.sk-parallel-item {display: flex;flex-direction: column;z-index: 1;position: relative;background-color: white;}#sk-container-id-13 div.sk-parallel-item:first-child::after {align-self: flex-end;width: 50%;}#sk-container-id-13 div.sk-parallel-item:last-child::after {align-self: flex-start;width: 50%;}#sk-container-id-13 div.sk-parallel-item:only-child::after {width: 0;}#sk-container-id-13 div.sk-dashed-wrapped {border: 1px dashed gray;margin: 0 0.4em 0.5em 0.4em;box-sizing: border-box;padding-bottom: 0.4em;background-color: white;}#sk-container-id-13 div.sk-label label {font-family: monospace;font-weight: bold;display: inline-block;line-height: 1.2em;}#sk-container-id-13 div.sk-label-container {text-align: center;}#sk-container-id-13 div.sk-container {/* jupyter's `normalize.less` sets `[hidden] { display: none; }` but bootstrap.min.css set `[hidden] { display: none !important; }` so we also need the `!important` here to be able to override the default hidden behavior on the sphinx rendered scikit-learn.org. See: https://github.com/scikit-learn/scikit-learn/issues/21755 */display: inline-block !important;position: relative;}#sk-container-id-13 div.sk-text-repr-fallback {display: none;}</style><div id=\"sk-container-id-13\" class=\"sk-top-container\"><div class=\"sk-text-repr-fallback\"><pre>LinearRegression()</pre><b>In a Jupyter environment, please rerun this cell to show the HTML representation or trust the notebook. <br />On GitHub, the HTML representation is unable to render, please try loading this page with nbviewer.org.</b></div><div class=\"sk-container\" hidden><div class=\"sk-item\"><div class=\"sk-estimator sk-toggleable\"><input class=\"sk-toggleable__control sk-hidden--visually\" id=\"sk-estimator-id-13\" type=\"checkbox\" checked><label for=\"sk-estimator-id-13\" class=\"sk-toggleable__label sk-toggleable__label-arrow\">LinearRegression</label><div class=\"sk-toggleable__content\"><pre>LinearRegression()</pre></div></div></div></div></div>"
      ],
      "text/plain": [
       "LinearRegression()"
      ]
     },
     "execution_count": 381,
     "metadata": {},
     "output_type": "execute_result"
    }
   ],
   "source": [
    "from sklearn.model_selection import train_test_split\n",
    "x_train,x_test,y_train,y_test=train_test_split(x,y,test_size=0.2,random_state=42)\n",
    "from sklearn.linear_model import LinearRegression\n",
    "model=LinearRegression()\n",
    "model.fit(x_train,y_train)"
   ]
  },
  {
   "cell_type": "code",
   "execution_count": 383,
   "id": "4affb23b-9418-4a7b-82a0-e33c6c259296",
   "metadata": {},
   "outputs": [
    {
     "data": {
      "text/plain": [
       "0.3829807733751466"
      ]
     },
     "execution_count": 383,
     "metadata": {},
     "output_type": "execute_result"
    }
   ],
   "source": [
    "model.score(x_train,y_train)"
   ]
  },
  {
   "cell_type": "code",
   "execution_count": 385,
   "id": "7756ae28-e358-43fb-8f82-2f510807012b",
   "metadata": {},
   "outputs": [
    {
     "data": {
      "text/plain": [
       "0.44234328480518104"
      ]
     },
     "execution_count": 385,
     "metadata": {},
     "output_type": "execute_result"
    }
   ],
   "source": [
    "model.score(x_test,y_test)"
   ]
  },
  {
   "cell_type": "code",
   "execution_count": 387,
   "id": "d190967e-66a8-4f06-8caf-176794cac26b",
   "metadata": {},
   "outputs": [],
   "source": [
    "#time to regularaze the model.\n",
    "#apply ridge method\n"
   ]
  },
  {
   "cell_type": "code",
   "execution_count": 389,
   "id": "ccd18c1c-583f-4022-9380-418c6520abba",
   "metadata": {},
   "outputs": [
    {
     "data": {
      "text/html": [
       "<style>#sk-container-id-14 {color: black;background-color: white;}#sk-container-id-14 pre{padding: 0;}#sk-container-id-14 div.sk-toggleable {background-color: white;}#sk-container-id-14 label.sk-toggleable__label {cursor: pointer;display: block;width: 100%;margin-bottom: 0;padding: 0.3em;box-sizing: border-box;text-align: center;}#sk-container-id-14 label.sk-toggleable__label-arrow:before {content: \"▸\";float: left;margin-right: 0.25em;color: #696969;}#sk-container-id-14 label.sk-toggleable__label-arrow:hover:before {color: black;}#sk-container-id-14 div.sk-estimator:hover label.sk-toggleable__label-arrow:before {color: black;}#sk-container-id-14 div.sk-toggleable__content {max-height: 0;max-width: 0;overflow: hidden;text-align: left;background-color: #f0f8ff;}#sk-container-id-14 div.sk-toggleable__content pre {margin: 0.2em;color: black;border-radius: 0.25em;background-color: #f0f8ff;}#sk-container-id-14 input.sk-toggleable__control:checked~div.sk-toggleable__content {max-height: 200px;max-width: 100%;overflow: auto;}#sk-container-id-14 input.sk-toggleable__control:checked~label.sk-toggleable__label-arrow:before {content: \"▾\";}#sk-container-id-14 div.sk-estimator input.sk-toggleable__control:checked~label.sk-toggleable__label {background-color: #d4ebff;}#sk-container-id-14 div.sk-label input.sk-toggleable__control:checked~label.sk-toggleable__label {background-color: #d4ebff;}#sk-container-id-14 input.sk-hidden--visually {border: 0;clip: rect(1px 1px 1px 1px);clip: rect(1px, 1px, 1px, 1px);height: 1px;margin: -1px;overflow: hidden;padding: 0;position: absolute;width: 1px;}#sk-container-id-14 div.sk-estimator {font-family: monospace;background-color: #f0f8ff;border: 1px dotted black;border-radius: 0.25em;box-sizing: border-box;margin-bottom: 0.5em;}#sk-container-id-14 div.sk-estimator:hover {background-color: #d4ebff;}#sk-container-id-14 div.sk-parallel-item::after {content: \"\";width: 100%;border-bottom: 1px solid gray;flex-grow: 1;}#sk-container-id-14 div.sk-label:hover label.sk-toggleable__label {background-color: #d4ebff;}#sk-container-id-14 div.sk-serial::before {content: \"\";position: absolute;border-left: 1px solid gray;box-sizing: border-box;top: 0;bottom: 0;left: 50%;z-index: 0;}#sk-container-id-14 div.sk-serial {display: flex;flex-direction: column;align-items: center;background-color: white;padding-right: 0.2em;padding-left: 0.2em;position: relative;}#sk-container-id-14 div.sk-item {position: relative;z-index: 1;}#sk-container-id-14 div.sk-parallel {display: flex;align-items: stretch;justify-content: center;background-color: white;position: relative;}#sk-container-id-14 div.sk-item::before, #sk-container-id-14 div.sk-parallel-item::before {content: \"\";position: absolute;border-left: 1px solid gray;box-sizing: border-box;top: 0;bottom: 0;left: 50%;z-index: -1;}#sk-container-id-14 div.sk-parallel-item {display: flex;flex-direction: column;z-index: 1;position: relative;background-color: white;}#sk-container-id-14 div.sk-parallel-item:first-child::after {align-self: flex-end;width: 50%;}#sk-container-id-14 div.sk-parallel-item:last-child::after {align-self: flex-start;width: 50%;}#sk-container-id-14 div.sk-parallel-item:only-child::after {width: 0;}#sk-container-id-14 div.sk-dashed-wrapped {border: 1px dashed gray;margin: 0 0.4em 0.5em 0.4em;box-sizing: border-box;padding-bottom: 0.4em;background-color: white;}#sk-container-id-14 div.sk-label label {font-family: monospace;font-weight: bold;display: inline-block;line-height: 1.2em;}#sk-container-id-14 div.sk-label-container {text-align: center;}#sk-container-id-14 div.sk-container {/* jupyter's `normalize.less` sets `[hidden] { display: none; }` but bootstrap.min.css set `[hidden] { display: none !important; }` so we also need the `!important` here to be able to override the default hidden behavior on the sphinx rendered scikit-learn.org. See: https://github.com/scikit-learn/scikit-learn/issues/21755 */display: inline-block !important;position: relative;}#sk-container-id-14 div.sk-text-repr-fallback {display: none;}</style><div id=\"sk-container-id-14\" class=\"sk-top-container\"><div class=\"sk-text-repr-fallback\"><pre>Ridge(alpha=50, max_iter=100, tol=0.1)</pre><b>In a Jupyter environment, please rerun this cell to show the HTML representation or trust the notebook. <br />On GitHub, the HTML representation is unable to render, please try loading this page with nbviewer.org.</b></div><div class=\"sk-container\" hidden><div class=\"sk-item\"><div class=\"sk-estimator sk-toggleable\"><input class=\"sk-toggleable__control sk-hidden--visually\" id=\"sk-estimator-id-14\" type=\"checkbox\" checked><label for=\"sk-estimator-id-14\" class=\"sk-toggleable__label sk-toggleable__label-arrow\">Ridge</label><div class=\"sk-toggleable__content\"><pre>Ridge(alpha=50, max_iter=100, tol=0.1)</pre></div></div></div></div></div>"
      ],
      "text/plain": [
       "Ridge(alpha=50, max_iter=100, tol=0.1)"
      ]
     },
     "execution_count": 389,
     "metadata": {},
     "output_type": "execute_result"
    }
   ],
   "source": [
    "from sklearn.linear_model import Ridge\n",
    "redge_model=Ridge(alpha=50,max_iter=100,tol=0.1)\n",
    "redge_model.fit(x_train,y_train)\n"
   ]
  },
  {
   "cell_type": "code",
   "execution_count": 391,
   "id": "025a7fba-f334-41de-b0a9-231700ab0c93",
   "metadata": {},
   "outputs": [
    {
     "data": {
      "text/plain": [
       "0.36724407704172857"
      ]
     },
     "execution_count": 391,
     "metadata": {},
     "output_type": "execute_result"
    }
   ],
   "source": [
    "redge_model.score(x_train,y_train)"
   ]
  },
  {
   "cell_type": "code",
   "execution_count": 393,
   "id": "20222867-4bb8-4d5a-a45a-3a6ee4c0a107",
   "metadata": {},
   "outputs": [
    {
     "data": {
      "text/plain": [
       "0.4260371439135129"
      ]
     },
     "execution_count": 393,
     "metadata": {},
     "output_type": "execute_result"
    }
   ],
   "source": [
    "redge_model.score(x_test,y_test)"
   ]
  },
  {
   "cell_type": "code",
   "execution_count": 395,
   "id": "e068b744-8d6f-4ca7-bc37-d29a14e09a7b",
   "metadata": {},
   "outputs": [],
   "source": [
    "#now apply lasso model."
   ]
  },
  {
   "cell_type": "code",
   "execution_count": 397,
   "id": "5a994177-cabc-4bea-9a7c-2ce0fec57723",
   "metadata": {},
   "outputs": [
    {
     "data": {
      "text/html": [
       "<style>#sk-container-id-15 {color: black;background-color: white;}#sk-container-id-15 pre{padding: 0;}#sk-container-id-15 div.sk-toggleable {background-color: white;}#sk-container-id-15 label.sk-toggleable__label {cursor: pointer;display: block;width: 100%;margin-bottom: 0;padding: 0.3em;box-sizing: border-box;text-align: center;}#sk-container-id-15 label.sk-toggleable__label-arrow:before {content: \"▸\";float: left;margin-right: 0.25em;color: #696969;}#sk-container-id-15 label.sk-toggleable__label-arrow:hover:before {color: black;}#sk-container-id-15 div.sk-estimator:hover label.sk-toggleable__label-arrow:before {color: black;}#sk-container-id-15 div.sk-toggleable__content {max-height: 0;max-width: 0;overflow: hidden;text-align: left;background-color: #f0f8ff;}#sk-container-id-15 div.sk-toggleable__content pre {margin: 0.2em;color: black;border-radius: 0.25em;background-color: #f0f8ff;}#sk-container-id-15 input.sk-toggleable__control:checked~div.sk-toggleable__content {max-height: 200px;max-width: 100%;overflow: auto;}#sk-container-id-15 input.sk-toggleable__control:checked~label.sk-toggleable__label-arrow:before {content: \"▾\";}#sk-container-id-15 div.sk-estimator input.sk-toggleable__control:checked~label.sk-toggleable__label {background-color: #d4ebff;}#sk-container-id-15 div.sk-label input.sk-toggleable__control:checked~label.sk-toggleable__label {background-color: #d4ebff;}#sk-container-id-15 input.sk-hidden--visually {border: 0;clip: rect(1px 1px 1px 1px);clip: rect(1px, 1px, 1px, 1px);height: 1px;margin: -1px;overflow: hidden;padding: 0;position: absolute;width: 1px;}#sk-container-id-15 div.sk-estimator {font-family: monospace;background-color: #f0f8ff;border: 1px dotted black;border-radius: 0.25em;box-sizing: border-box;margin-bottom: 0.5em;}#sk-container-id-15 div.sk-estimator:hover {background-color: #d4ebff;}#sk-container-id-15 div.sk-parallel-item::after {content: \"\";width: 100%;border-bottom: 1px solid gray;flex-grow: 1;}#sk-container-id-15 div.sk-label:hover label.sk-toggleable__label {background-color: #d4ebff;}#sk-container-id-15 div.sk-serial::before {content: \"\";position: absolute;border-left: 1px solid gray;box-sizing: border-box;top: 0;bottom: 0;left: 50%;z-index: 0;}#sk-container-id-15 div.sk-serial {display: flex;flex-direction: column;align-items: center;background-color: white;padding-right: 0.2em;padding-left: 0.2em;position: relative;}#sk-container-id-15 div.sk-item {position: relative;z-index: 1;}#sk-container-id-15 div.sk-parallel {display: flex;align-items: stretch;justify-content: center;background-color: white;position: relative;}#sk-container-id-15 div.sk-item::before, #sk-container-id-15 div.sk-parallel-item::before {content: \"\";position: absolute;border-left: 1px solid gray;box-sizing: border-box;top: 0;bottom: 0;left: 50%;z-index: -1;}#sk-container-id-15 div.sk-parallel-item {display: flex;flex-direction: column;z-index: 1;position: relative;background-color: white;}#sk-container-id-15 div.sk-parallel-item:first-child::after {align-self: flex-end;width: 50%;}#sk-container-id-15 div.sk-parallel-item:last-child::after {align-self: flex-start;width: 50%;}#sk-container-id-15 div.sk-parallel-item:only-child::after {width: 0;}#sk-container-id-15 div.sk-dashed-wrapped {border: 1px dashed gray;margin: 0 0.4em 0.5em 0.4em;box-sizing: border-box;padding-bottom: 0.4em;background-color: white;}#sk-container-id-15 div.sk-label label {font-family: monospace;font-weight: bold;display: inline-block;line-height: 1.2em;}#sk-container-id-15 div.sk-label-container {text-align: center;}#sk-container-id-15 div.sk-container {/* jupyter's `normalize.less` sets `[hidden] { display: none; }` but bootstrap.min.css set `[hidden] { display: none !important; }` so we also need the `!important` here to be able to override the default hidden behavior on the sphinx rendered scikit-learn.org. See: https://github.com/scikit-learn/scikit-learn/issues/21755 */display: inline-block !important;position: relative;}#sk-container-id-15 div.sk-text-repr-fallback {display: none;}</style><div id=\"sk-container-id-15\" class=\"sk-top-container\"><div class=\"sk-text-repr-fallback\"><pre>Lasso(alpha=50, max_iter=100, tol=0.1)</pre><b>In a Jupyter environment, please rerun this cell to show the HTML representation or trust the notebook. <br />On GitHub, the HTML representation is unable to render, please try loading this page with nbviewer.org.</b></div><div class=\"sk-container\" hidden><div class=\"sk-item\"><div class=\"sk-estimator sk-toggleable\"><input class=\"sk-toggleable__control sk-hidden--visually\" id=\"sk-estimator-id-15\" type=\"checkbox\" checked><label for=\"sk-estimator-id-15\" class=\"sk-toggleable__label sk-toggleable__label-arrow\">Lasso</label><div class=\"sk-toggleable__content\"><pre>Lasso(alpha=50, max_iter=100, tol=0.1)</pre></div></div></div></div></div>"
      ],
      "text/plain": [
       "Lasso(alpha=50, max_iter=100, tol=0.1)"
      ]
     },
     "execution_count": 397,
     "metadata": {},
     "output_type": "execute_result"
    }
   ],
   "source": [
    "from sklearn.linear_model import Lasso\n",
    "lasso_model=Lasso(alpha=50,max_iter=100,tol=0.1)\n",
    "lasso_model.fit(x_train,y_train)"
   ]
  },
  {
   "cell_type": "code",
   "execution_count": 399,
   "id": "cbf649fa-c717-41c7-8348-ff3089ece14b",
   "metadata": {},
   "outputs": [
    {
     "data": {
      "text/plain": [
       "0.0"
      ]
     },
     "execution_count": 399,
     "metadata": {},
     "output_type": "execute_result"
    }
   ],
   "source": [
    "lasso_model.score(x_train,y_train)"
   ]
  },
  {
   "cell_type": "code",
   "execution_count": 401,
   "id": "b2462bdf-2a96-4bab-b439-e063f1408915",
   "metadata": {},
   "outputs": [
    {
     "data": {
      "text/plain": [
       "-0.005646334288551325"
      ]
     },
     "execution_count": 401,
     "metadata": {},
     "output_type": "execute_result"
    }
   ],
   "source": [
    "lasso_model.score(x_test,y_test)"
   ]
  },
  {
   "cell_type": "code",
   "execution_count": null,
   "id": "856397d7-37c8-4b24-9eea-e5771636a32c",
   "metadata": {},
   "outputs": [],
   "source": []
  }
 ],
 "metadata": {
  "kernelspec": {
   "display_name": "Python 3 (ipykernel)",
   "language": "python",
   "name": "python3"
  },
  "language_info": {
   "codemirror_mode": {
    "name": "ipython",
    "version": 3
   },
   "file_extension": ".py",
   "mimetype": "text/x-python",
   "name": "python",
   "nbconvert_exporter": "python",
   "pygments_lexer": "ipython3",
   "version": "3.11.7"
  }
 },
 "nbformat": 4,
 "nbformat_minor": 5
}
